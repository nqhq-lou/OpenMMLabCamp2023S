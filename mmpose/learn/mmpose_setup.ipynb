{
 "cells": [
  {
   "cell_type": "markdown",
   "metadata": {},
   "source": [
    "# MMPose"
   ]
  },
  {
   "cell_type": "markdown",
   "metadata": {},
   "source": [
    "## basic setup\n",
    "\n",
    "- [安装参考](https://github.com/TommyZihao/MMPose_Tutorials/blob/main/2023/0524/%E3%80%90A1%E3%80%91%E5%AE%89%E8%A3%85MMPose.ipynb)\n"
   ]
  },
  {
   "cell_type": "code",
   "execution_count": 8,
   "metadata": {},
   "outputs": [],
   "source": [
    "import os\n",
    "PROJECT_ROOT = \"/home/louzekun/projects/mmlab\"\n",
    "# os.chdir(os.path.join(PROJECT_ROOT, \"mmpose\"))\n",
    "os.chdir(PROJECT_ROOT)"
   ]
  },
  {
   "cell_type": "code",
   "execution_count": 10,
   "metadata": {},
   "outputs": [
    {
     "name": "stdout",
     "output_type": "stream",
     "text": [
      "/mnt/data/ai4phys/louzekun/projects/mmlab\n"
     ]
    }
   ],
   "source": [
    "!pwd\n",
    "\n",
    "os.mkdir('checkpoint')  # 预训练权重\n",
    "os.mkdir('outputs')  # 预测结果\n",
    "os.mkdir('data')  # 图片和视频素材\n",
    "os.mkdir('data/test')"
   ]
  },
  {
   "cell_type": "code",
   "execution_count": 11,
   "metadata": {},
   "outputs": [
    {
     "name": "stdout",
     "output_type": "stream",
     "text": [
      "--2023-06-03 15:16:34--  https://zihao-openmmlab.obs.cn-east-3.myhuaweicloud.com/20220610-mmpose/images/multi-person.jpeg\n",
      "Resolving zihao-openmmlab.obs.cn-east-3.myhuaweicloud.com (zihao-openmmlab.obs.cn-east-3.myhuaweicloud.com)... 121.36.235.132\n",
      "Connecting to zihao-openmmlab.obs.cn-east-3.myhuaweicloud.com (zihao-openmmlab.obs.cn-east-3.myhuaweicloud.com)|121.36.235.132|:443... connected.\n",
      "HTTP request sent, awaiting response... 200 OK\n",
      "Length: 604280 (590K) [image/jpeg]\n",
      "Saving to: ‘data/test/multi-person.jpeg’\n",
      "\n",
      "data/test/multi-per 100%[===================>] 590.12K  3.00MB/s    in 0.2s    \n",
      "\n",
      "2023-06-03 15:16:34 (3.00 MB/s) - ‘data/test/multi-person.jpeg’ saved [604280/604280]\n",
      "\n",
      "--2023-06-03 15:16:35--  https://zihao-openmmlab.obs.myhuaweicloud.com/20220610-mmpose/videos/cxk.mp4\n",
      "Resolving zihao-openmmlab.obs.myhuaweicloud.com (zihao-openmmlab.obs.myhuaweicloud.com)... 121.36.235.132\n",
      "Connecting to zihao-openmmlab.obs.myhuaweicloud.com (zihao-openmmlab.obs.myhuaweicloud.com)|121.36.235.132|:443... connected.\n",
      "HTTP request sent, awaiting response... 200 OK\n",
      "Length: 5535528 (5.3M) [video/mp4]\n",
      "Saving to: ‘data/test/cxk.mp4’\n",
      "\n",
      "cxk.mp4             100%[===================>]   5.28M  19.6MB/s    in 0.3s    \n",
      "\n",
      "2023-06-03 15:16:35 (19.6 MB/s) - ‘data/test/cxk.mp4’ saved [5535528/5535528]\n",
      "\n",
      "--2023-06-03 15:16:35--  https://zihao-openmmlab.obs.myhuaweicloud.com/20220610-mmpose/videos/mother_wx.mp4\n",
      "Resolving zihao-openmmlab.obs.myhuaweicloud.com (zihao-openmmlab.obs.myhuaweicloud.com)... 121.36.235.132\n",
      "Connecting to zihao-openmmlab.obs.myhuaweicloud.com (zihao-openmmlab.obs.myhuaweicloud.com)|121.36.235.132|:443... connected.\n",
      "HTTP request sent, awaiting response... 200 OK\n",
      "Length: 402665 (393K) [video/mp4]\n",
      "Saving to: ‘data/test/mother_wx.mp4’\n",
      "\n",
      "mother_wx.mp4       100%[===================>] 393.23K  1.55MB/s    in 0.2s    \n",
      "\n",
      "2023-06-03 15:16:36 (1.55 MB/s) - ‘data/test/mother_wx.mp4’ saved [402665/402665]\n",
      "\n",
      "--2023-06-03 15:16:36--  https://zihao-openmmlab.obs.cn-east-3.myhuaweicloud.com/20220610-mmpose/videos/two-girls.mp4\n",
      "Resolving zihao-openmmlab.obs.cn-east-3.myhuaweicloud.com (zihao-openmmlab.obs.cn-east-3.myhuaweicloud.com)... 121.36.235.132\n",
      "Connecting to zihao-openmmlab.obs.cn-east-3.myhuaweicloud.com (zihao-openmmlab.obs.cn-east-3.myhuaweicloud.com)|121.36.235.132|:443... connected.\n",
      "HTTP request sent, awaiting response... 200 OK\n",
      "Length: 44217475 (42M) [video/mp4]\n",
      "Saving to: ‘data/test/two-girls.mp4’\n",
      "\n",
      "data/test/two-girls 100%[===================>]  42.17M  63.2MB/s    in 0.7s    \n",
      "\n",
      "2023-06-03 15:16:37 (63.2 MB/s) - ‘data/test/two-girls.mp4’ saved [44217475/44217475]\n",
      "\n"
     ]
    }
   ],
   "source": [
    "# 多人图片，来源：https://www.pexels.com/zh-cn/photo/2168292/\n",
    "!wget https://zihao-openmmlab.obs.cn-east-3.myhuaweicloud.com/20220610-mmpose/images/multi-person.jpeg -O data/test/multi-person.jpeg\n",
    "\n",
    "# 单人视频-唱跳篮球\n",
    "!wget https://zihao-openmmlab.obs.myhuaweicloud.com/20220610-mmpose/videos/cxk.mp4 -P data/test\n",
    "\n",
    "# 妈妈和女儿跳舞，经微信压缩\n",
    "!wget https://zihao-openmmlab.obs.myhuaweicloud.com/20220610-mmpose/videos/mother_wx.mp4 -P data/test\n",
    "\n",
    "# 两个女生跳舞视频，来源：https://mixkit.co/free-stock-video/two-girls-having-fun-in-a-retro-restaurant-42298/\n",
    "!wget https://zihao-openmmlab.obs.cn-east-3.myhuaweicloud.com/20220610-mmpose/videos/two-girls.mp4 -O data/test/two-girls.mp4"
   ]
  },
  {
   "cell_type": "code",
   "execution_count": 12,
   "metadata": {},
   "outputs": [
    {
     "name": "stdout",
     "output_type": "stream",
     "text": [
      "mmpose版本 1.0.0\n"
     ]
    }
   ],
   "source": [
    "# 检查 mmpose\n",
    "import mmpose\n",
    "print('mmpose版本', mmpose.__version__)"
   ]
  },
  {
   "cell_type": "code",
   "execution_count": 14,
   "metadata": {},
   "outputs": [
    {
     "name": "stdout",
     "output_type": "stream",
     "text": [
      "mmagic          1.0.1      https://github.com/open-mmlab/mmagic\n",
      "mmcv            2.0.0rc4   https://github.com/open-mmlab/mmcv\n",
      "mmdet           3.0.0      /home/louzekun/miniconda3/envs/mmlab2/lib/python3.9/site-packages\n",
      "mmengine        0.7.3      https://github.com/open-mmlab/mmengine\n",
      "mmpose          1.0.0      https://github.com/open-mmlab/mmpose\n",
      "mmpretrain      1.0.0rc8   https://github.com/open-mmlab/mmpretrain\n",
      "mmsegmentation  1.0.0      https://github.com/open-mmlab/mmsegmentation\n"
     ]
    }
   ],
   "source": [
    "!mim list | grep mm\n"
   ]
  },
  {
   "cell_type": "code",
   "execution_count": null,
   "metadata": {},
   "outputs": [],
   "source": []
  },
  {
   "cell_type": "code",
   "execution_count": null,
   "metadata": {},
   "outputs": [],
   "source": []
  }
 ],
 "metadata": {
  "kernelspec": {
   "display_name": "Python 3.9.16 ('mmlab2')",
   "language": "python",
   "name": "python3"
  },
  "language_info": {
   "codemirror_mode": {
    "name": "ipython",
    "version": 3
   },
   "file_extension": ".py",
   "mimetype": "text/x-python",
   "name": "python",
   "nbconvert_exporter": "python",
   "pygments_lexer": "ipython3",
   "version": "3.9.16"
  },
  "orig_nbformat": 4,
  "vscode": {
   "interpreter": {
    "hash": "2ce752448361f29a69a0ad392cc53f8102052f58e50cd7b2483c64c600e59c35"
   }
  }
 },
 "nbformat": 4,
 "nbformat_minor": 2
}
