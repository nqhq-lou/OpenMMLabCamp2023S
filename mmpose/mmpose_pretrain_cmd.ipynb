{
 "cells": [
  {
   "cell_type": "markdown",
   "metadata": {},
   "source": [
    "# use cmd"
   ]
  },
  {
   "cell_type": "code",
   "execution_count": 1,
   "metadata": {},
   "outputs": [
    {
     "name": "stdout",
     "output_type": "stream",
     "text": [
      "/mnt/data/ai4phys/louzekun/projects/mmlab/mmpose\n"
     ]
    }
   ],
   "source": [
    "!pwd"
   ]
  },
  {
   "cell_type": "code",
   "execution_count": 2,
   "metadata": {},
   "outputs": [
    {
     "name": "stdout",
     "output_type": "stream",
     "text": [
      "Loads checkpoint by http backend from path: https://download.openmmlab.com/mmdetection/v2.0/faster_rcnn/faster_rcnn_r50_fpn_1x_coco/faster_rcnn_r50_fpn_1x_coco_20200130-047c8118.pth\n",
      "Downloading: \"https://download.openmmlab.com/mmdetection/v2.0/faster_rcnn/faster_rcnn_r50_fpn_1x_coco/faster_rcnn_r50_fpn_1x_coco_20200130-047c8118.pth\" to /home/louzekun/.cache/torch/hub/checkpoints/faster_rcnn_r50_fpn_1x_coco_20200130-047c8118.pth\n",
      "100%|████████████████████████████████████████| 160M/160M [00:08<00:00, 20.2MB/s]\n",
      "Loads checkpoint by http backend from path: https://download.openmmlab.com/mmpose/top_down/hrnet/hrnet_w32_coco_256x192-c78dce93_20200708.pth\n",
      "Downloading: \"https://download.openmmlab.com/mmpose/top_down/hrnet/hrnet_w32_coco_256x192-c78dce93_20200708.pth\" to /home/louzekun/.cache/torch/hub/checkpoints/hrnet_w32_coco_256x192-c78dce93_20200708.pth\n",
      "100%|████████████████████████████████████████| 109M/109M [00:10<00:00, 10.8MB/s]\n",
      "06/03 16:49:41 - mmengine - \u001b[5m\u001b[4m\u001b[33mWARNING\u001b[0m - `Visualizer` backend is not initialized because save_dir is None.\n"
     ]
    }
   ],
   "source": [
    "# HRNet\n",
    "!python demo/topdown_demo_with_mmdet.py \\\n",
    "    demo/mmdetection_cfg/faster_rcnn_r50_fpn_coco.py \\\n",
    "    https://download.openmmlab.com/mmdetection/v2.0/faster_rcnn/faster_rcnn_r50_fpn_1x_coco/faster_rcnn_r50_fpn_1x_coco_20200130-047c8118.pth \\\n",
    "    configs/body_2d_keypoint/topdown_heatmap/coco/td-hm_hrnet-w32_8xb64-210e_coco-256x192.py \\\n",
    "    https://download.openmmlab.com/mmpose/top_down/hrnet/hrnet_w32_coco_256x192-c78dce93_20200708.pth \\\n",
    "    --input data/test/multi-person.jpeg \\\n",
    "    --output-root outputs/B1_HRNet_1 \\\n",
    "    --device cuda:0 \\\n",
    "    --bbox-thr 0.5 \\\n",
    "    --kpt-thr 0.2 \\\n",
    "    --nms-thr 0.3 \\\n",
    "    --radius 8 \\\n",
    "    --thickness 4 \\\n",
    "    --draw-bbox \\\n",
    "    --draw-heatmap \\\n",
    "    --show-kpt-idx"
   ]
  },
  {
   "cell_type": "markdown",
   "metadata": {},
   "source": [
    "![](./outputs/B1_HRNet_1/multi-person.jpeg)"
   ]
  },
  {
   "cell_type": "code",
   "execution_count": 5,
   "metadata": {},
   "outputs": [
    {
     "name": "stdout",
     "output_type": "stream",
     "text": [
      "Loads checkpoint by http backend from path: https://download.openmmlab.com/mmdetection/v2.0/faster_rcnn/faster_rcnn_r50_fpn_1x_coco/faster_rcnn_r50_fpn_1x_coco_20200130-047c8118.pth\n",
      "Loads checkpoint by http backend from path: https://download.openmmlab.com/mmpose/v1/projects/rtmpose/rtmpose-s_simcc-aic-coco_pt-aic-coco_420e-256x192-fcb2599b_20230126.pth\n",
      "Downloading: \"https://download.openmmlab.com/mmpose/v1/projects/rtmpose/rtmpose-s_simcc-aic-coco_pt-aic-coco_420e-256x192-fcb2599b_20230126.pth\" to /home/louzekun/.cache/torch/hub/checkpoints/rtmpose-s_simcc-aic-coco_pt-aic-coco_420e-256x192-fcb2599b_20230126.pth\n",
      "100%|██████████████████████████████████████| 60.8M/60.8M [00:04<00:00, 13.2MB/s]\n",
      "06/03 16:58:58 - mmengine - \u001b[5m\u001b[4m\u001b[33mWARNING\u001b[0m - `Visualizer` backend is not initialized because save_dir is None.\n",
      "/home/louzekun/miniconda3/envs/mmlab2/lib/python3.9/site-packages/mmpose/models/heads/coord_cls_heads/rtmcc_head.py:217: UserWarning: The predicted simcc values are normalized for visualization. This may cause discrepancy between the keypoint scores and the 1D heatmaps.\n",
      "  warnings.warn('The predicted simcc values are normalized for '\n",
      "/home/louzekun/miniconda3/envs/mmlab2/lib/python3.9/site-packages/mmengine/visualization/visualizer.py:680: UserWarning: Warning: The circle is out of bounds, the drawn circle may not be in the image\n",
      "  warnings.warn(\n",
      "/home/louzekun/miniconda3/envs/mmlab2/lib/python3.9/site-packages/mmengine/visualization/visualizer.py:505: UserWarning: Warning: The text is out of bounds, the drawn text may not be in the image\n",
      "  warnings.warn(\n"
     ]
    }
   ],
   "source": [
    "# RTMPose\n",
    "!python demo/topdown_demo_with_mmdet.py \\\n",
    "    demo/mmdetection_cfg/faster_rcnn_r50_fpn_coco.py \\\n",
    "    https://download.openmmlab.com/mmdetection/v2.0/faster_rcnn/faster_rcnn_r50_fpn_1x_coco/faster_rcnn_r50_fpn_1x_coco_20200130-047c8118.pth \\\n",
    "    projects/rtmpose/rtmpose/body_2d_keypoint/rtmpose-s_8xb256-420e_coco-256x192.py \\\n",
    "    https://download.openmmlab.com/mmpose/v1/projects/rtmpose/rtmpose-s_simcc-aic-coco_pt-aic-coco_420e-256x192-fcb2599b_20230126.pth \\\n",
    "    --input data/test/multi-person.jpeg \\\n",
    "    --output-root outputs/B1_RTM_1 \\\n",
    "    --device cuda:0 \\\n",
    "    --bbox-thr 0.5 \\\n",
    "    --kpt-thr 0.2 \\\n",
    "    --nms-thr 0.3 \\\n",
    "    --radius 8 \\\n",
    "    --thickness 4 \\\n",
    "    --draw-bbox \\\n",
    "    --draw-heatmap \\\n",
    "    --show-kpt-idx"
   ]
  },
  {
   "cell_type": "markdown",
   "metadata": {},
   "source": [
    "![](./outputs/B1_RTM_1/multi-person.jpeg)\n"
   ]
  },
  {
   "cell_type": "code",
   "execution_count": null,
   "metadata": {},
   "outputs": [],
   "source": []
  },
  {
   "cell_type": "code",
   "execution_count": null,
   "metadata": {},
   "outputs": [],
   "source": []
  }
 ],
 "metadata": {
  "kernelspec": {
   "display_name": "Python 3.9.16 ('mmlab2')",
   "language": "python",
   "name": "python3"
  },
  "language_info": {
   "codemirror_mode": {
    "name": "ipython",
    "version": 3
   },
   "file_extension": ".py",
   "mimetype": "text/x-python",
   "name": "python",
   "nbconvert_exporter": "python",
   "pygments_lexer": "ipython3",
   "version": "3.9.16"
  },
  "orig_nbformat": 4,
  "vscode": {
   "interpreter": {
    "hash": "2ce752448361f29a69a0ad392cc53f8102052f58e50cd7b2483c64c600e59c35"
   }
  }
 },
 "nbformat": 4,
 "nbformat_minor": 2
}
