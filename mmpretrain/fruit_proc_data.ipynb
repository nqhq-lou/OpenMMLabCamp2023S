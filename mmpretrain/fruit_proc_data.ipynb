{
 "cells": [
  {
   "cell_type": "markdown",
   "metadata": {},
   "source": [
    "# HW2\n",
    "\n",
    "- tasks\n",
    "    - 划分训练集和验证集；\n",
    "    - 按照 MMPreTrain CustomDataset 格式组织训练集和验证集；\n",
    "    - 使用 MMPreTrain 算法库，编写配置文件，正确加载预训练模型；\n",
    "    - 在水果数据集上进行微调训练；\n",
    "    - 使用 MMPreTrain 的 ImageClassificationInferencer 接口，对网络水果图像，或自己拍摄的水果图像，使用训练好的模型进行分类。\n",
    "- 需提交的验证集评估指标（不能低于 60%）\n",
    "\n",
    "![example acc image](https://user-images.githubusercontent.com/66227028/243670989-d72eb206-9df3-44f6-8ad5-28ae70858fa2.png)"
   ]
  },
  {
   "cell_type": "markdown",
   "metadata": {},
   "source": [
    "## 1. split train and val dataset\n"
   ]
  },
  {
   "cell_type": "code",
   "execution_count": 12,
   "metadata": {},
   "outputs": [
    {
     "data": {
      "text/plain": [
       "'/mnt/data/ai4phys/louzekun/projects/mmlab/mmpretrain'"
      ]
     },
     "execution_count": 12,
     "metadata": {},
     "output_type": "execute_result"
    }
   ],
   "source": [
    "import os\n",
    "import numpy\n",
    "\n",
    "import shutil\n",
    "import matplotlib.pyplot as plt\n",
    "from tqdm import tqdm\n",
    "from PIL import Image\n",
    "\n",
    "PROJECT_ROOT = '/home/louzekun/projects/mmlab/mmpretrain'\n",
    "\n",
    "os.chdir(PROJECT_ROOT)\n",
    "os.getcwd()\n"
   ]
  },
  {
   "cell_type": "code",
   "execution_count": 2,
   "metadata": {},
   "outputs": [],
   "source": [
    "raw_dpath = '/home/louzekun/projects/mmlab/mmpretrain/data/fruit30_train'\n",
    "dataset_dpath = '/home/louzekun/projects/mmlab/mmpretrain/data/fruit30_dataset'  # to be created\n",
    "train_dpath = '/home/louzekun/projects/mmlab/mmpretrain/data/fruit30_dataset/train'\n",
    "val_dpath = '/home/louzekun/projects/mmlab/mmpretrain/data/fruit30_dataset/val'\n",
    "\n",
    "# make dataset dir\n",
    "os.makedirs(dataset_dpath, mode=0o776, exist_ok=True)\n",
    "os.makedirs(train_dpath, mode=0o776, exist_ok=True)\n",
    "os.makedirs(val_dpath, mode=0o776, exist_ok=True)\n"
   ]
  },
  {
   "cell_type": "code",
   "execution_count": 3,
   "metadata": {},
   "outputs": [
    {
     "name": "stdout",
     "output_type": "stream",
     "text": [
      "['dragon_fruit', 'lemon', 'longan', 'navel_orange', 'cherry', 'tangerine_orange', 'cucumber', 'pineapple', 'grape_red', 'pomelo', 'hami_melon', 'durian', 'kiwi_fruit', 'tomato', 'bitter_melon', 'waxberry', 'grape_white', 'cherry_tomato', 'watermelon', 'pomegranate', 'banana', 'mango', 'apple_red', 'carrot', 'strawberry', 'lychee', 'pear', 'apple_green', 'coconut', 'blip-base_3rdparty_coco-caption_20230419-a5b71af3.pth', 'mangosteen']\n"
     ]
    },
    {
     "data": {
      "text/plain": [
       "(30, 30)"
      ]
     },
     "execution_count": 3,
     "metadata": {},
     "output_type": "execute_result"
    }
   ],
   "source": [
    "# rename raw_dpath subdirs to English names\n",
    "print(os.listdir(raw_dpath))\n",
    "# translate with newbing\n",
    "raw_sub_dnames = ['脐橙', '西瓜', '香蕉', '柠檬', '梨', '桂圆', '草莓', '胡萝卜', '石榴', '西红柿', '苦瓜', '菠萝', '猕猴桃', '黄瓜', '圣女果', '葡萄-红', '椰子', '车厘子', '葡萄-白', '榴莲', '柚子', '火龙果', '杨梅', '苹果-青', '砂糖橘', '苹果-红', '哈密瓜', '荔枝', '山竹', '芒果']\n",
    "# newbing prompt is:\n",
    "# ranslate these names into English, use short names as possible, output in python List[str] format, replace blanck with underline:\n",
    "trans_sub_dnames = ['navel_orange', 'watermelon', 'banana', 'lemon', 'pear', 'longan', 'strawberry', 'carrot', 'pomegranate', 'tomato', 'bitter_melon', 'pineapple', 'kiwi_fruit', 'cucumber', 'cherry_tomato', 'grape_red', 'coconut', 'cherry', 'grape_white', 'durian', 'pomelo', 'dragon_fruit', 'waxberry', 'apple_green', 'tangerine_orange', 'apple_red', 'hami_melon', 'lychee', 'mangosteen', 'mango']\n",
    "len(raw_sub_dnames), len(trans_sub_dnames)"
   ]
  },
  {
   "cell_type": "code",
   "execution_count": 5,
   "metadata": {},
   "outputs": [],
   "source": [
    "# rename subdirs to English names\n",
    "for chname, enname in zip(raw_sub_dnames, trans_sub_dnames):\n",
    "    chdpath = os.path.join(raw_dpath, chname)\n",
    "    endpath = os.path.join(raw_dpath, enname)\n",
    "    print(chname, '->', enname)\n",
    "    shutil.move(chdpath, endpath)\n"
   ]
  },
  {
   "cell_type": "code",
   "execution_count": 6,
   "metadata": {},
   "outputs": [
    {
     "name": "stdout",
     "output_type": "stream",
     "text": [
      "dirname: dragon_fruit    \tfiles: 146\ttrain: 116\tval: 30\n"
     ]
    },
    {
     "name": "stderr",
     "output_type": "stream",
     "text": [
      "copying dragon_fruit to train: 100%|██████████████████████████████| 116/116 [00:01<00:00, 74.26it/s]\n",
      "copying dragon_fruit to val: 100%|██████████████████████████████████| 30/30 [00:00<00:00, 69.37it/s]\n"
     ]
    },
    {
     "name": "stdout",
     "output_type": "stream",
     "text": [
      "dirname: lemon           \tfiles: 119\ttrain: 95\tval: 24\n"
     ]
    },
    {
     "name": "stderr",
     "output_type": "stream",
     "text": [
      "copying lemon to train: 100%|███████████████████████████████████████| 95/95 [00:01<00:00, 70.04it/s]\n",
      "copying lemon to val: 100%|█████████████████████████████████████████| 24/24 [00:00<00:00, 69.15it/s]\n"
     ]
    },
    {
     "name": "stdout",
     "output_type": "stream",
     "text": [
      "dirname: longan          \tfiles: 153\ttrain: 122\tval: 31\n"
     ]
    },
    {
     "name": "stderr",
     "output_type": "stream",
     "text": [
      "copying longan to train: 100%|████████████████████████████████████| 122/122 [00:01<00:00, 69.17it/s]\n",
      "copying longan to val: 100%|████████████████████████████████████████| 31/31 [00:00<00:00, 68.80it/s]\n"
     ]
    },
    {
     "name": "stdout",
     "output_type": "stream",
     "text": [
      "dirname: navel_orange    \tfiles: 151\ttrain: 120\tval: 31\n"
     ]
    },
    {
     "name": "stderr",
     "output_type": "stream",
     "text": [
      "copying navel_orange to train: 100%|██████████████████████████████| 120/120 [00:01<00:00, 70.66it/s]\n",
      "copying navel_orange to val: 100%|██████████████████████████████████| 31/31 [00:00<00:00, 70.33it/s]\n"
     ]
    },
    {
     "name": "stdout",
     "output_type": "stream",
     "text": [
      "dirname: cherry          \tfiles: 129\ttrain: 103\tval: 26\n"
     ]
    },
    {
     "name": "stderr",
     "output_type": "stream",
     "text": [
      "copying cherry to train: 100%|████████████████████████████████████| 103/103 [00:01<00:00, 82.34it/s]\n",
      "copying cherry to val: 100%|████████████████████████████████████████| 26/26 [00:00<00:00, 79.01it/s]\n"
     ]
    },
    {
     "name": "stdout",
     "output_type": "stream",
     "text": [
      "dirname: tangerine_orange\tfiles: 142\ttrain: 113\tval: 29\n"
     ]
    },
    {
     "name": "stderr",
     "output_type": "stream",
     "text": [
      "copying tangerine_orange to train: 100%|██████████████████████████| 113/113 [00:01<00:00, 80.71it/s]\n",
      "copying tangerine_orange to val: 100%|██████████████████████████████| 29/29 [00:00<00:00, 74.89it/s]\n"
     ]
    },
    {
     "name": "stdout",
     "output_type": "stream",
     "text": [
      "dirname: cucumber        \tfiles: 140\ttrain: 112\tval: 28\n"
     ]
    },
    {
     "name": "stderr",
     "output_type": "stream",
     "text": [
      "copying cucumber to train: 100%|██████████████████████████████████| 112/112 [00:01<00:00, 80.61it/s]\n",
      "copying cucumber to val: 100%|██████████████████████████████████████| 28/28 [00:00<00:00, 71.18it/s]\n"
     ]
    },
    {
     "name": "stdout",
     "output_type": "stream",
     "text": [
      "dirname: pineapple       \tfiles: 152\ttrain: 121\tval: 31\n"
     ]
    },
    {
     "name": "stderr",
     "output_type": "stream",
     "text": [
      "copying pineapple to train: 100%|█████████████████████████████████| 121/121 [00:01<00:00, 75.62it/s]\n",
      "copying pineapple to val: 100%|█████████████████████████████████████| 31/31 [00:00<00:00, 67.42it/s]\n"
     ]
    },
    {
     "name": "stdout",
     "output_type": "stream",
     "text": [
      "dirname: grape_red       \tfiles: 156\ttrain: 124\tval: 32\n"
     ]
    },
    {
     "name": "stderr",
     "output_type": "stream",
     "text": [
      "copying grape_red to train: 100%|█████████████████████████████████| 124/124 [00:01<00:00, 70.54it/s]\n",
      "copying grape_red to val: 100%|█████████████████████████████████████| 32/32 [00:00<00:00, 73.76it/s]\n"
     ]
    },
    {
     "name": "stdout",
     "output_type": "stream",
     "text": [
      "dirname: pomelo          \tfiles: 148\ttrain: 118\tval: 30\n"
     ]
    },
    {
     "name": "stderr",
     "output_type": "stream",
     "text": [
      "copying pomelo to train: 100%|████████████████████████████████████| 118/118 [00:01<00:00, 75.15it/s]\n",
      "copying pomelo to val: 100%|████████████████████████████████████████| 30/30 [00:00<00:00, 73.81it/s]\n"
     ]
    },
    {
     "name": "stdout",
     "output_type": "stream",
     "text": [
      "dirname: hami_melon      \tfiles: 151\ttrain: 120\tval: 31\n"
     ]
    },
    {
     "name": "stderr",
     "output_type": "stream",
     "text": [
      "copying hami_melon to train: 100%|████████████████████████████████| 120/120 [00:01<00:00, 67.42it/s]\n",
      "copying hami_melon to val: 100%|████████████████████████████████████| 31/31 [00:00<00:00, 67.05it/s]\n"
     ]
    },
    {
     "name": "stdout",
     "output_type": "stream",
     "text": [
      "dirname: durian          \tfiles: 148\ttrain: 118\tval: 30\n"
     ]
    },
    {
     "name": "stderr",
     "output_type": "stream",
     "text": [
      "copying durian to train: 100%|████████████████████████████████████| 118/118 [00:01<00:00, 69.76it/s]\n",
      "copying durian to val: 100%|████████████████████████████████████████| 30/30 [00:00<00:00, 69.06it/s]\n"
     ]
    },
    {
     "name": "stdout",
     "output_type": "stream",
     "text": [
      "dirname: kiwi_fruit      \tfiles: 150\ttrain: 120\tval: 30\n"
     ]
    },
    {
     "name": "stderr",
     "output_type": "stream",
     "text": [
      "copying kiwi_fruit to train: 100%|████████████████████████████████| 120/120 [00:01<00:00, 68.44it/s]\n",
      "copying kiwi_fruit to val: 100%|████████████████████████████████████| 30/30 [00:00<00:00, 74.13it/s]\n"
     ]
    },
    {
     "name": "stdout",
     "output_type": "stream",
     "text": [
      "dirname: tomato          \tfiles: 148\ttrain: 118\tval: 30\n"
     ]
    },
    {
     "name": "stderr",
     "output_type": "stream",
     "text": [
      "copying tomato to train: 100%|████████████████████████████████████| 118/118 [00:01<00:00, 68.30it/s]\n",
      "copying tomato to val: 100%|████████████████████████████████████████| 30/30 [00:00<00:00, 67.95it/s]\n"
     ]
    },
    {
     "name": "stdout",
     "output_type": "stream",
     "text": [
      "dirname: bitter_melon    \tfiles: 144\ttrain: 115\tval: 29\n"
     ]
    },
    {
     "name": "stderr",
     "output_type": "stream",
     "text": [
      "copying bitter_melon to train: 100%|██████████████████████████████| 115/115 [00:01<00:00, 68.63it/s]\n",
      "copying bitter_melon to val: 100%|██████████████████████████████████| 29/29 [00:00<00:00, 72.25it/s]\n"
     ]
    },
    {
     "name": "stdout",
     "output_type": "stream",
     "text": [
      "dirname: waxberry        \tfiles: 149\ttrain: 119\tval: 30\n"
     ]
    },
    {
     "name": "stderr",
     "output_type": "stream",
     "text": [
      "copying waxberry to train: 100%|██████████████████████████████████| 119/119 [00:01<00:00, 70.98it/s]\n",
      "copying waxberry to val: 100%|██████████████████████████████████████| 30/30 [00:00<00:00, 70.08it/s]\n"
     ]
    },
    {
     "name": "stdout",
     "output_type": "stream",
     "text": [
      "dirname: grape_white     \tfiles: 124\ttrain: 99\tval: 25\n"
     ]
    },
    {
     "name": "stderr",
     "output_type": "stream",
     "text": [
      "copying grape_white to train: 100%|█████████████████████████████████| 99/99 [00:01<00:00, 80.15it/s]\n",
      "copying grape_white to val: 100%|███████████████████████████████████| 25/25 [00:00<00:00, 74.96it/s]\n"
     ]
    },
    {
     "name": "stdout",
     "output_type": "stream",
     "text": [
      "dirname: cherry_tomato   \tfiles: 153\ttrain: 122\tval: 31\n"
     ]
    },
    {
     "name": "stderr",
     "output_type": "stream",
     "text": [
      "copying cherry_tomato to train: 100%|█████████████████████████████| 122/122 [00:01<00:00, 78.42it/s]\n",
      "copying cherry_tomato to val: 100%|█████████████████████████████████| 31/31 [00:00<00:00, 77.93it/s]\n"
     ]
    },
    {
     "name": "stdout",
     "output_type": "stream",
     "text": [
      "dirname: watermelon      \tfiles: 149\ttrain: 119\tval: 30\n"
     ]
    },
    {
     "name": "stderr",
     "output_type": "stream",
     "text": [
      "copying watermelon to train: 100%|████████████████████████████████| 119/119 [00:01<00:00, 75.09it/s]\n",
      "copying watermelon to val: 100%|████████████████████████████████████| 30/30 [00:00<00:00, 70.27it/s]\n"
     ]
    },
    {
     "name": "stdout",
     "output_type": "stream",
     "text": [
      "dirname: pomegranate     \tfiles: 150\ttrain: 120\tval: 30\n"
     ]
    },
    {
     "name": "stderr",
     "output_type": "stream",
     "text": [
      "copying pomegranate to train: 100%|███████████████████████████████| 120/120 [00:01<00:00, 69.44it/s]\n",
      "copying pomegranate to val: 100%|███████████████████████████████████| 30/30 [00:00<00:00, 71.31it/s]\n"
     ]
    },
    {
     "name": "stdout",
     "output_type": "stream",
     "text": [
      "dirname: banana          \tfiles: 145\ttrain: 116\tval: 29\n"
     ]
    },
    {
     "name": "stderr",
     "output_type": "stream",
     "text": [
      "copying banana to train: 100%|████████████████████████████████████| 116/116 [00:01<00:00, 76.71it/s]\n",
      "copying banana to val: 100%|████████████████████████████████████████| 29/29 [00:00<00:00, 74.84it/s]\n"
     ]
    },
    {
     "name": "stdout",
     "output_type": "stream",
     "text": [
      "dirname: mango           \tfiles: 132\ttrain: 105\tval: 27\n"
     ]
    },
    {
     "name": "stderr",
     "output_type": "stream",
     "text": [
      "copying mango to train: 100%|█████████████████████████████████████| 105/105 [00:01<00:00, 83.15it/s]\n",
      "copying mango to val: 100%|█████████████████████████████████████████| 27/27 [00:00<00:00, 83.98it/s]\n"
     ]
    },
    {
     "name": "stdout",
     "output_type": "stream",
     "text": [
      "dirname: apple_red       \tfiles: 142\ttrain: 113\tval: 29\n"
     ]
    },
    {
     "name": "stderr",
     "output_type": "stream",
     "text": [
      "copying apple_red to train: 100%|█████████████████████████████████| 113/113 [00:01<00:00, 72.73it/s]\n",
      "copying apple_red to val: 100%|█████████████████████████████████████| 29/29 [00:00<00:00, 71.45it/s]\n"
     ]
    },
    {
     "name": "stdout",
     "output_type": "stream",
     "text": [
      "dirname: carrot          \tfiles: 146\ttrain: 116\tval: 30\n"
     ]
    },
    {
     "name": "stderr",
     "output_type": "stream",
     "text": [
      "copying carrot to train: 100%|████████████████████████████████████| 116/116 [00:01<00:00, 73.90it/s]\n",
      "copying carrot to val: 100%|████████████████████████████████████████| 30/30 [00:00<00:00, 62.62it/s]\n"
     ]
    },
    {
     "name": "stdout",
     "output_type": "stream",
     "text": [
      "dirname: strawberry      \tfiles: 153\ttrain: 122\tval: 31\n"
     ]
    },
    {
     "name": "stderr",
     "output_type": "stream",
     "text": [
      "copying strawberry to train: 100%|████████████████████████████████| 122/122 [00:01<00:00, 73.77it/s]\n",
      "copying strawberry to val: 100%|████████████████████████████████████| 31/31 [00:00<00:00, 74.27it/s]\n"
     ]
    },
    {
     "name": "stdout",
     "output_type": "stream",
     "text": [
      "dirname: lychee          \tfiles: 156\ttrain: 124\tval: 32\n"
     ]
    },
    {
     "name": "stderr",
     "output_type": "stream",
     "text": [
      "copying lychee to train: 100%|████████████████████████████████████| 124/124 [00:01<00:00, 73.71it/s]\n",
      "copying lychee to val: 100%|████████████████████████████████████████| 32/32 [00:00<00:00, 70.19it/s]\n"
     ]
    },
    {
     "name": "stdout",
     "output_type": "stream",
     "text": [
      "dirname: pear            \tfiles: 151\ttrain: 120\tval: 31\n"
     ]
    },
    {
     "name": "stderr",
     "output_type": "stream",
     "text": [
      "copying pear to train: 100%|██████████████████████████████████████| 120/120 [00:01<00:00, 72.33it/s]\n",
      "copying pear to val: 100%|██████████████████████████████████████████| 31/31 [00:00<00:00, 76.10it/s]\n"
     ]
    },
    {
     "name": "stdout",
     "output_type": "stream",
     "text": [
      "dirname: apple_green     \tfiles: 151\ttrain: 120\tval: 31\n"
     ]
    },
    {
     "name": "stderr",
     "output_type": "stream",
     "text": [
      "copying apple_green to train: 100%|███████████████████████████████| 120/120 [00:01<00:00, 78.39it/s]\n",
      "copying apple_green to val: 100%|███████████████████████████████████| 31/31 [00:00<00:00, 78.18it/s]\n"
     ]
    },
    {
     "name": "stdout",
     "output_type": "stream",
     "text": [
      "dirname: coconut         \tfiles: 154\ttrain: 123\tval: 31\n"
     ]
    },
    {
     "name": "stderr",
     "output_type": "stream",
     "text": [
      "copying coconut to train: 100%|███████████████████████████████████| 123/123 [00:01<00:00, 69.28it/s]\n",
      "copying coconut to val: 100%|███████████████████████████████████████| 31/31 [00:00<00:00, 71.26it/s]\n"
     ]
    },
    {
     "name": "stdout",
     "output_type": "stream",
     "text": [
      "dirname: mangosteen      \tfiles: 143\ttrain: 114\tval: 29\n"
     ]
    },
    {
     "name": "stderr",
     "output_type": "stream",
     "text": [
      "copying mangosteen to train: 100%|████████████████████████████████| 114/114 [00:01<00:00, 74.42it/s]\n",
      "copying mangosteen to val: 100%|████████████████████████████████████| 29/29 [00:00<00:00, 73.23it/s]\n"
     ]
    }
   ],
   "source": [
    "train_frac, val_frac = 0.8, 0.2\n",
    "# normalize\n",
    "train_frac, val_frac = train_frac / (train_frac + val_frac), val_frac / (train_frac + val_frac)\n",
    "raw_en_sub_dnames = [d for d in os.listdir(raw_dpath) if os.path.isdir(os.path.join(raw_dpath, d))]\n",
    "\n",
    "for raw_sub_dname in raw_en_sub_dnames:\n",
    "    raw_sub_dpath = os.path.join(raw_dpath, raw_sub_dname)\n",
    "    train_sub_dpath = os.path.join(train_dpath, raw_sub_dname)\n",
    "    val_sub_dpath = os.path.join(val_dpath, raw_sub_dname)\n",
    "    _cp = lambda dfrom, dto, fname: shutil.copy(os.path.join(dfrom, fname), os.path.join(dto, fname))\n",
    "    for d in [train_sub_dpath, val_sub_dpath]:\n",
    "        if os.path.exists(d): shutil.rmtree(d)\n",
    "        os.makedirs(d, mode=0o776, exist_ok=True)\n",
    "\n",
    "    sub_fnames = os.listdir(raw_sub_dpath)\n",
    "    # shuffle\n",
    "    numpy.random.shuffle(sub_fnames)\n",
    "    # split\n",
    "    train_cnt = int(len(sub_fnames) * train_frac)\n",
    "    train_fnames = sub_fnames[:train_cnt]\n",
    "    val_fnames = sub_fnames[train_cnt:]\n",
    "    print(f\"dirname: {raw_sub_dname:16s}\\tfiles: {len(sub_fnames)}\\ttrain: {len(train_fnames)}\\tval: {len(val_fnames)}\")\n",
    "    # copy to train and val dirs\n",
    "    for fname in tqdm(train_fnames, ncols=100, desc=f\"copying {raw_sub_dname} to train\"):\n",
    "        _cp(raw_sub_dpath, train_sub_dpath, fname)\n",
    "    for fname in tqdm(val_fnames, ncols=100, desc=f\"copying {raw_sub_dname} to val\"):\n",
    "        _cp(raw_sub_dpath, val_sub_dpath, fname)"
   ]
  },
  {
   "cell_type": "code",
   "execution_count": null,
   "metadata": {},
   "outputs": [],
   "source": [
    "# check train and val dirs files cnt\n",
    "# skip this step\n"
   ]
  },
  {
   "cell_type": "code",
   "execution_count": 13,
   "metadata": {},
   "outputs": [
    {
     "name": "stderr",
     "output_type": "stream",
     "text": [
      "loading images: 100%|██████████████████████████████████████████| 3715/3715 [00:13<00:00, 269.78it/s]\n"
     ]
    }
   ],
   "source": [
    "# load all the images and check for RGB mean and std\n",
    "\n",
    "dataset_dpath = '/home/louzekun/projects/mmlab/mmpretrain/data/fruit30_dataset'  # to be created\n",
    "# find all the images path recursively\n",
    "img_fpaths = []\n",
    "for root, dirs, files in os.walk(dataset_dpath):\n",
    "    for fname in files:\n",
    "        if fname.endswith('.jpg'):\n",
    "            img_fpaths.append(os.path.join(root, fname))\n",
    "\n",
    "len(img_fpaths)\n",
    "\n",
    "# load each image and convert to shape (RGB, pixels)\n",
    "# then compute the mean and std\n",
    "img_data = []\n",
    "for img_fpath in tqdm(img_fpaths, ncols=100, desc=\"loading images\"):\n",
    "    img = Image.open(img_fpath)\n",
    "    img_data.append(numpy.array(img))\n"
   ]
  },
  {
   "cell_type": "code",
   "execution_count": 15,
   "metadata": {},
   "outputs": [
    {
     "data": {
      "text/plain": [
       "(967589988, 3)"
      ]
     },
     "execution_count": 15,
     "metadata": {},
     "output_type": "execute_result"
    }
   ],
   "source": [
    "img_data = numpy.concatenate([d.reshape(-1, 3) for d in img_data], axis=0)\n",
    "img_data.shape"
   ]
  },
  {
   "cell_type": "code",
   "execution_count": 20,
   "metadata": {},
   "outputs": [],
   "source": [
    "import torch\n",
    "\n",
    "device = torch.device('cuda:0')\n",
    "img_data = torch.from_numpy(img_data).to(device)"
   ]
  },
  {
   "cell_type": "code",
   "execution_count": 22,
   "metadata": {},
   "outputs": [],
   "source": [
    "# convert from torch.uint8 to torch.float32\n",
    "img_data = img_data.float()"
   ]
  },
  {
   "cell_type": "code",
   "execution_count": 24,
   "metadata": {},
   "outputs": [
    {
     "data": {
      "text/plain": [
       "(tensor([169.1138, 147.0236, 113.2977], device='cuda:0'),\n",
       " tensor([77.2956, 79.5745, 89.1477], device='cuda:0'))"
      ]
     },
     "execution_count": 24,
     "metadata": {},
     "output_type": "execute_result"
    }
   ],
   "source": [
    "img_data.mean(dim=0), img_data.std(dim=0)"
   ]
  },
  {
   "cell_type": "markdown",
   "metadata": {},
   "source": [
    "## 2. organize dataset to MMPreTrain CustomDataset format\n"
   ]
  },
  {
   "cell_type": "code",
   "execution_count": null,
   "metadata": {},
   "outputs": [],
   "source": [
    "# already done\n"
   ]
  },
  {
   "cell_type": "code",
   "execution_count": null,
   "metadata": {},
   "outputs": [],
   "source": []
  }
 ],
 "metadata": {
  "kernelspec": {
   "display_name": "Python 3.9.16 ('mmlab2')",
   "language": "python",
   "name": "python3"
  },
  "language_info": {
   "codemirror_mode": {
    "name": "ipython",
    "version": 3
   },
   "file_extension": ".py",
   "mimetype": "text/x-python",
   "name": "python",
   "nbconvert_exporter": "python",
   "pygments_lexer": "ipython3",
   "version": "3.9.16"
  },
  "orig_nbformat": 4,
  "vscode": {
   "interpreter": {
    "hash": "2ce752448361f29a69a0ad392cc53f8102052f58e50cd7b2483c64c600e59c35"
   }
  }
 },
 "nbformat": 4,
 "nbformat_minor": 2
}
