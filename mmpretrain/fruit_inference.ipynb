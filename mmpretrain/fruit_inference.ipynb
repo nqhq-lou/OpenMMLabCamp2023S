{
 "cells": [
  {
   "cell_type": "markdown",
   "metadata": {},
   "source": [
    "# HW2\n",
    "\n",
    "- tasks\n",
    "    - 划分训练集和验证集；\n",
    "    - 按照 MMPreTrain CustomDataset 格式组织训练集和验证集；\n",
    "    - 使用 MMPreTrain 算法库，编写配置文件，正确加载预训练模型；\n",
    "    - 在水果数据集上进行微调训练；\n",
    "    - 使用 MMPreTrain 的 ImageClassificationInferencer 接口，对网络水果图像，或自己拍摄的水果图像，使用训练好的模型进行分类。\n",
    "- 需提交的验证集评估指标（不能低于 60%）\n",
    "\n",
    "![example acc image](https://user-images.githubusercontent.com/66227028/243670989-d72eb206-9df3-44f6-8ad5-28ae70858fa2.png)"
   ]
  },
  {
   "cell_type": "markdown",
   "metadata": {},
   "source": [
    "## 5. use ImageClassificationInferencer to classify fruit image\n"
   ]
  },
  {
   "cell_type": "code",
   "execution_count": 5,
   "metadata": {},
   "outputs": [
    {
     "data": {
      "text/plain": [
       "'/mnt/data/ai4phys/louzekun/projects/mmlab/mmpretrain'"
      ]
     },
     "execution_count": 5,
     "metadata": {},
     "output_type": "execute_result"
    }
   ],
   "source": [
    "import os\n",
    "import cv2\n",
    "import numpy\n",
    "import matplotlib.pyplot as plt\n",
    "from PIL import Image, ImageDraw, ImageFont\n",
    "\n",
    "PROJECT_ROOT = '/home/louzekun/projects/mmlab/mmpretrain'\n",
    "os.chdir(PROJECT_ROOT)\n",
    "os.getcwd()"
   ]
  },
  {
   "cell_type": "code",
   "execution_count": 8,
   "metadata": {},
   "outputs": [
    {
     "name": "stdout",
     "output_type": "stream",
     "text": [
      "Loads checkpoint by local backend from path: log/best_accuracy_top1_epoch_86.pth\n"
     ]
    }
   ],
   "source": [
    "from mmpretrain import ImageClassificationInferencer\n",
    "\n",
    "infr = ImageClassificationInferencer('resnet50_8xb32_fruit30.py', pretrained=\"log/best_accuracy_top1_epoch_86.pth\")"
   ]
  },
  {
   "cell_type": "markdown",
   "metadata": {},
   "source": [
    "![multi_fruit](./data/multi_fruit.jpg)\n",
    "![multi_fruit](./outputs/multi_fruit.png)\n"
   ]
  },
  {
   "cell_type": "code",
   "execution_count": 9,
   "metadata": {},
   "outputs": [
    {
     "name": "stdout",
     "output_type": "stream",
     "text": [
      "\u001b[2KInference \u001b[90m━━━━━━━━━━━━━━━━━━━━━━━━━━━━━━━━━━━━━━━━\u001b[0m \u001b[35m100%\u001b[0m \u001b[36m0:00:00\u001b[0m\n",
      "\u001b[?25h06/09 15:57:02 - mmengine - \u001b[5m\u001b[4m\u001b[33mWARNING\u001b[0m - `Visualizer` backend is not initialized because save_dir is None.\n",
      "[{'pred_scores': array([2.10763741e-04, 2.48681772e-05, 2.15649216e-05, 3.82172503e-02,\n",
      "       2.31695667e-05, 3.45212204e-04, 3.45652195e-04, 5.12153492e-05,\n",
      "       9.78814205e-04, 1.10443936e-04, 1.45302065e-05, 1.59222916e-01,\n",
      "       6.42318279e-02, 4.02407924e-04, 2.59470398e-04, 4.86356951e-03,\n",
      "       4.35342867e-04, 1.14372568e-02, 1.81839387e-05, 3.25388424e-02,\n",
      "       6.65963080e-06, 3.38885798e-07, 1.76173096e-04, 2.36301646e-02,\n",
      "       8.64575617e-04, 6.57689631e-01, 3.54676263e-06, 1.10539247e-03,\n",
      "       1.19541155e-03, 1.57474272e-03], dtype=float32), 'pred_label': 25, 'pred_score': 0.65768963098526, 'pred_class': 'strawberry'}]\n"
     ]
    }
   ],
   "source": [
    "img_path = \"/home/louzekun/projects/mmlab/mmpretrain/data/multi_fruit.jpg\"\n",
    "pred = infr(img_path, show_dir=\"outputs\")\n",
    "print(pred)"
   ]
  },
  {
   "cell_type": "markdown",
   "metadata": {},
   "source": [
    "![orange](./data/orange.jpg)\n",
    "![orange](./outputs/orange.png)\n"
   ]
  },
  {
   "cell_type": "code",
   "execution_count": 10,
   "metadata": {},
   "outputs": [
    {
     "name": "stdout",
     "output_type": "stream",
     "text": [
      "\u001b[2KInference \u001b[90m━━━━━━━━━━━━━━━━━━━━━━━━━━━━━━━━━━━━━━━━\u001b[0m \u001b[35m100%\u001b[0m \u001b[36m0:00:00\u001b[0m\n",
      "\u001b[?25h[{'pred_scores': array([3.0247074e-10, 1.8387964e-09, 3.8484078e-09, 4.8750820e-08,\n",
      "       8.7980830e-08, 4.2523043e-10, 4.5089287e-08, 1.9438980e-07,\n",
      "       6.1880492e-09, 6.6376138e-10, 5.8677854e-09, 2.0063864e-07,\n",
      "       1.1276332e-08, 3.2597299e-08, 6.0881839e-06, 9.6838473e-04,\n",
      "       1.7430310e-07, 1.5567431e-09, 1.5796644e-08, 8.8094421e-10,\n",
      "       9.9900889e-01, 3.0357943e-09, 8.3936635e-09, 3.8980223e-09,\n",
      "       2.9273754e-06, 2.1477144e-08, 1.0786454e-05, 1.4980873e-06,\n",
      "       1.6153194e-07, 4.7618806e-07], dtype=float32), 'pred_label': 20, 'pred_score': 0.9990088939666748, 'pred_class': 'navel_orange'}]\n"
     ]
    }
   ],
   "source": [
    "img_path = \"/home/louzekun/projects/mmlab/mmpretrain/data/orange.jpg\"\n",
    "pred = infr(img_path, show_dir=\"outputs\")\n",
    "print(pred)"
   ]
  },
  {
   "cell_type": "code",
   "execution_count": null,
   "metadata": {},
   "outputs": [],
   "source": []
  }
 ],
 "metadata": {
  "kernelspec": {
   "display_name": "Python 3.9.16 ('mmlab2')",
   "language": "python",
   "name": "python3"
  },
  "language_info": {
   "codemirror_mode": {
    "name": "ipython",
    "version": 3
   },
   "file_extension": ".py",
   "mimetype": "text/x-python",
   "name": "python",
   "nbconvert_exporter": "python",
   "pygments_lexer": "ipython3",
   "version": "3.9.16"
  },
  "orig_nbformat": 4,
  "vscode": {
   "interpreter": {
    "hash": "2ce752448361f29a69a0ad392cc53f8102052f58e50cd7b2483c64c600e59c35"
   }
  }
 },
 "nbformat": 4,
 "nbformat_minor": 2
}
