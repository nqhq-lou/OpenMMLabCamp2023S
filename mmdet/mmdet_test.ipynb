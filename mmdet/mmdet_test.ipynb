{
 "cells": [
  {
   "cell_type": "code",
   "execution_count": null,
   "metadata": {},
   "outputs": [],
   "source": []
  }
 ],
 "metadata": {
  "kernelspec": {
   "display_name": "Python 3.9.16 ('mmlab2')",
   "language": "python",
   "name": "python3"
  },
  "language_info": {
   "name": "python",
   "version": "3.9.16"
  },
  "orig_nbformat": 4,
  "vscode": {
   "interpreter": {
    "hash": "2ce752448361f29a69a0ad392cc53f8102052f58e50cd7b2483c64c600e59c35"
   }
  }
 },
 "nbformat": 4,
 "nbformat_minor": 2
}
