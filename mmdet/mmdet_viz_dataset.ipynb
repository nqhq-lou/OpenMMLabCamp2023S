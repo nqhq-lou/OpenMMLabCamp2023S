{
 "cells": [
  {
   "cell_type": "markdown",
   "metadata": {},
   "source": [
    "# visualize balloon dataset\n",
    "\n",
    "- 按照视频中 notebook 步骤，可视化数据集和标签\n"
   ]
  },
  {
   "cell_type": "code",
   "execution_count": 1,
   "metadata": {},
   "outputs": [
    {
     "data": {
      "text/plain": [
       "'/mnt/data/ai4phys/louzekun/projects/mmlab/mmdet'"
      ]
     },
     "execution_count": 1,
     "metadata": {},
     "output_type": "execute_result"
    }
   ],
   "source": [
    "import os\n",
    "import shutil\n",
    "\n",
    "from tqdm import tqdm\n",
    "\n",
    "PROJECT_ROOT = \"/home/louzekun/projects/mmlab/mmdet\"\n",
    "os.chdir(PROJECT_ROOT)\n",
    "os.getcwd()"
   ]
  },
  {
   "cell_type": "code",
   "execution_count": 2,
   "metadata": {},
   "outputs": [
    {
     "name": "stdout",
     "output_type": "stream",
     "text": [
      "balloon_RTMDet.py  configs\t\t     mmdet_RTMDet.ipynb       outputs\n",
      "basic.ipynb\t   data\t\t\t     mmdet_test.ipynb\t      README.md\n",
      "checkpoint\t   mmdet_proc_dataset.ipynb  mmdet_viz_dataset.ipynb  tools\n",
      "balloon  Drink_coco\n",
      "train  val\n"
     ]
    }
   ],
   "source": [
    "!ls; ls data; ls data/balloon\n"
   ]
  },
  {
   "cell_type": "markdown",
   "metadata": {},
   "source": [
    "## 可视化数据集"
   ]
  },
  {
   "cell_type": "code",
   "execution_count": 18,
   "metadata": {},
   "outputs": [],
   "source": [
    "import matplotlib.pyplot as plt\n",
    "from PIL import Image\n",
    "\n",
    "img_dpath = \"data/balloon/train/\"\n",
    "img_fnames = os.listdir(img_dpath)[:8]\n",
    "img_fpaths = [os.path.join(img_dpath, fname) for fname in img_fnames]\n",
    "\n",
    "fig, axes = plt.subplots(2, 4, figsize=(16, 8))\n",
    "axes = axes.flatten()\n",
    "\n",
    "for idx, img_fpath in enumerate(img_fpaths):\n",
    "    name = img_fpath.split('/')[-1].rsplit('.', 1)[0]\n",
    "    img = Image.open(img_fpath).convert('RGB')\n",
    "    ax = axes[idx]\n",
    "    ax.imshow(img)\n",
    "    ax.set_title(name)\n",
    "    ax.axis('off')\n",
    "\n",
    "fig.tight_layout()\n",
    "fig = plt.gcf()\n",
    "fig.savefig(\"outputs/train_viz.jpg\")\n",
    "plt.close()"
   ]
  },
  {
   "cell_type": "markdown",
   "metadata": {},
   "source": [
    "![train_viz](./outputs/train_viz.jpg)"
   ]
  },
  {
   "cell_type": "markdown",
   "metadata": {},
   "source": [
    "## 可视化标签"
   ]
  },
  {
   "cell_type": "code",
   "execution_count": 25,
   "metadata": {},
   "outputs": [],
   "source": [
    "import json\n",
    "from PIL import Image\n",
    "import matplotlib.pyplot as plt\n",
    "from matplotlib.patches import Polygon\n",
    "from matplotlib.collections import PatchCollection\n",
    "\n",
    "train_dpath = \"./data/balloon/train/\"\n",
    "\n",
    "with open(os.path.join(train_dpath, \"via_region_data.json\")) as f:\n",
    "    anno = json.load(f)\n",
    "\n",
    "img_ids = list(anno.keys())\n",
    "img_ids_select = img_ids[:8]\n",
    "\n",
    "fig, axes = plt.subplots(2, 4, figsize=(16, 8), dpi=100)\n",
    "axes = axes.flatten()\n",
    "\n",
    "for idx, img_id in enumerate(img_ids_select):\n",
    "    img_fname = anno[img_id]['filename']\n",
    "    size = anno[img_id]['size']\n",
    "    img = Image.open(os.path.join(train_dpath, img_fname)).convert('RGB')\n",
    "\n",
    "    regions = anno[img_id]['regions']\n",
    "    patches = []\n",
    "    for region_id, region_info in regions.items():\n",
    "        x = region_info['shape_attributes']['all_points_x']\n",
    "        y = region_info['shape_attributes']['all_points_y']\n",
    "        points = list(zip(x,y))\n",
    "        polygon = Polygon(points, closed=True)\n",
    "        patches.append(polygon)\n",
    "    p = PatchCollection(patches, linewidths=2, alpha=0.5, facecolor='grey', edgecolor=\"yellow\")\n",
    "\n",
    "    ax = axes[idx]\n",
    "    ax.imshow(img)\n",
    "    ax.add_collection(p)\n",
    "    ax.set_title(img_fname.rsplit('.', 1)[0])\n",
    "    ax.axis('off')\n",
    "\n",
    "fig.tight_layout()\n",
    "fig = plt.gcf()\n",
    "fig.savefig(\"outputs/train_viz_polygon.jpg\")\n",
    "plt.close()\n"
   ]
  },
  {
   "cell_type": "markdown",
   "metadata": {},
   "source": [
    "![train_viz_polygon](./outputs/train_viz_polygon.jpg)\n"
   ]
  },
  {
   "cell_type": "markdown",
   "metadata": {},
   "source": [
    "# 可视化标签\n"
   ]
  },
  {
   "cell_type": "code",
   "execution_count": 3,
   "metadata": {},
   "outputs": [],
   "source": [
    "from pycocotools.coco import COCO\n",
    "import numpy\n",
    "from PIL import Image\n",
    "import matplotlib.pyplot as plt\n",
    "from matplotlib.patches import Polygon\n",
    "from matplotlib.collections import PatchCollection"
   ]
  },
  {
   "cell_type": "code",
   "execution_count": 4,
   "metadata": {},
   "outputs": [],
   "source": [
    "def apply_exif_orientation(image):\n",
    "    _EXIF_ORIENT = 274\n",
    "    if not hasattr(image, 'getexif'):\n",
    "        return image\n",
    "\n",
    "    try:\n",
    "        exif = image.getexif()\n",
    "    except Exception:\n",
    "        exif = None\n",
    "\n",
    "    if exif is None:\n",
    "        return image\n",
    "\n",
    "    orientation = exif.get(_EXIF_ORIENT)\n",
    "\n",
    "    method = {\n",
    "        2: Image.FLIP_LEFT_RIGHT,\n",
    "        3: Image.ROTATE_180,\n",
    "        4: Image.FLIP_TOP_BOTTOM,\n",
    "        5: Image.TRANSPOSE,\n",
    "        6: Image.ROTATE_270,\n",
    "        7: Image.TRANSVERSE,\n",
    "        8: Image.ROTATE_90,\n",
    "    }.get(orientation)\n",
    "    if method is not None:\n",
    "        return image.transpose(method)\n",
    "    return image\n",
    "\n",
    "def show_bbox_only(ax, coco, anns, show_label_bbox=True, is_filling=True):\n",
    "    \"\"\"Show bounding box of annotations Only.\"\"\"\n",
    "    if len(anns) == 0:\n",
    "        return\n",
    "\n",
    "    # ax = plt.gca()\n",
    "    ax.set_autoscale_on(False)\n",
    "\n",
    "    image2color = dict()\n",
    "    for cat in coco.getCatIds():\n",
    "        image2color[cat] = (numpy.random.random((1, 3)) * 0.7 + 0.3).tolist()[0]\n",
    "\n",
    "    polygons = []\n",
    "    colors = []\n",
    "\n",
    "    for ann in anns:\n",
    "        color = image2color[ann['category_id']]\n",
    "        bbox_x, bbox_y, bbox_w, bbox_h = ann['bbox']\n",
    "        poly = [[bbox_x, bbox_y], [bbox_x, bbox_y + bbox_h],\n",
    "                [bbox_x + bbox_w, bbox_y + bbox_h], [bbox_x + bbox_w, bbox_y]]\n",
    "        polygons.append(Polygon(numpy.array(poly).reshape((4, 2))))\n",
    "        colors.append(color)\n",
    "\n",
    "        if show_label_bbox:\n",
    "            label_bbox = dict(facecolor=color)\n",
    "        else:\n",
    "            label_bbox = None\n",
    "\n",
    "        ax.text(\n",
    "            bbox_x,\n",
    "            bbox_y,\n",
    "            '%s' % (coco.loadCats(ann['category_id'])[0]['name']),\n",
    "            color='white',\n",
    "            bbox=label_bbox)\n",
    "\n",
    "    if is_filling:\n",
    "        p = PatchCollection(\n",
    "            polygons, facecolor=colors, linewidths=0, alpha=0.4)\n",
    "        ax.add_collection(p)\n",
    "    p = PatchCollection(\n",
    "        polygons, facecolor='none', edgecolors=colors, linewidths=2)\n",
    "    ax.add_collection(p)"
   ]
  },
  {
   "cell_type": "code",
   "execution_count": 5,
   "metadata": {},
   "outputs": [
    {
     "name": "stdout",
     "output_type": "stream",
     "text": [
      "loading annotations into memory...\n",
      "Done (t=0.00s)\n",
      "creating index...\n",
      "index created!\n"
     ]
    }
   ],
   "source": [
    "train_dpath = \"./data/balloon/train/\"\n",
    "\n",
    "coco = COCO(os.path.join(train_dpath, \"balloon_train.json\"))\n",
    "img_ids = coco.getImgIds()\n",
    "img_ids_select = img_ids[:8]\n",
    "\n",
    "fig, axes = plt.subplots(2, 4, figsize=(16, 8), dpi=100)\n",
    "axes = axes.flatten()\n",
    "\n",
    "for idx, img_id in enumerate(img_ids_select):\n",
    "    img_data = coco.loadImgs(img_id)[0]\n",
    "    img_fname = img_data['file_name']\n",
    "    anno_ids = coco.getAnnIds(imgIds=img_id, catIds=[], iscrowd=0)\n",
    "    anno = coco.loadAnns(anno_ids)\n",
    "\n",
    "    img = Image.open(os.path.join(train_dpath, img_fname)).convert('RGB')\n",
    "    img = apply_exif_orientation(img)\n",
    "    ax = axes[idx]\n",
    "    ax.imshow(img)\n",
    "    show_bbox_only(ax, coco, anno)\n",
    "    ax.set_title(img_fname.rsplit('.', 1)[0])\n",
    "    ax = axes[idx]\n",
    "    ax.axis('off')\n",
    "\n",
    "fig.tight_layout()\n",
    "fig = plt.gcf()\n",
    "plt.close()\n",
    "fig.savefig(\"outputs/train_viz_coco.jpg\")\n"
   ]
  },
  {
   "cell_type": "markdown",
   "metadata": {},
   "source": [
    "![train_viz_coco](./outputs/train_viz_coco.jpg)\n"
   ]
  },
  {
   "cell_type": "code",
   "execution_count": null,
   "metadata": {},
   "outputs": [],
   "source": []
  }
 ],
 "metadata": {
  "kernelspec": {
   "display_name": "Python 3.9.16 ('mmlab2')",
   "language": "python",
   "name": "python3"
  },
  "language_info": {
   "codemirror_mode": {
    "name": "ipython",
    "version": 3
   },
   "file_extension": ".py",
   "mimetype": "text/x-python",
   "name": "python",
   "nbconvert_exporter": "python",
   "pygments_lexer": "ipython3",
   "version": "3.9.16"
  },
  "orig_nbformat": 4,
  "vscode": {
   "interpreter": {
    "hash": "2ce752448361f29a69a0ad392cc53f8102052f58e50cd7b2483c64c600e59c35"
   }
  }
 },
 "nbformat": 4,
 "nbformat_minor": 2
}
