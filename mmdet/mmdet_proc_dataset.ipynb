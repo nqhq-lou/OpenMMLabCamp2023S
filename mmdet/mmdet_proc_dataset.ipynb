{
 "cells": [
  {
   "cell_type": "markdown",
   "metadata": {},
   "source": [
    "# process balloon dataset\n",
    "\n",
    "- 基于提供的 notebook，将 cat 数据集换成气球数据集\n"
   ]
  },
  {
   "cell_type": "code",
   "execution_count": 1,
   "metadata": {},
   "outputs": [
    {
     "data": {
      "text/plain": [
       "'/mnt/data/ai4phys/louzekun/projects/mmlab/mmdet'"
      ]
     },
     "execution_count": 1,
     "metadata": {},
     "output_type": "execute_result"
    }
   ],
   "source": [
    "import os\n",
    "import shutil\n",
    "\n",
    "from tqdm import tqdm\n",
    "\n",
    "PROJECT_ROOT = \"/home/louzekun/projects/mmlab/mmdet\"\n",
    "os.chdir(PROJECT_ROOT)\n",
    "os.getcwd()"
   ]
  },
  {
   "cell_type": "code",
   "execution_count": 2,
   "metadata": {},
   "outputs": [
    {
     "name": "stdout",
     "output_type": "stream",
     "text": [
      "balloon_RTMDet.py  data\t\t\t     mmdet_test.ipynb\t      tools\n",
      "basic.ipynb\t   logs\t\t\t     mmdet_viz_dataset.ipynb\n",
      "checkpoint\t   mmdet_proc_dataset.ipynb  outputs\n",
      "configs\t\t   mmdet_RTMDet.ipynb\t     README.md\n",
      "balloon  Drink_coco\n",
      "train  val\n"
     ]
    }
   ],
   "source": [
    "!ls; ls data; ls data/balloon\n"
   ]
  },
  {
   "cell_type": "code",
   "execution_count": 2,
   "metadata": {},
   "outputs": [],
   "source": [
    "import json\n",
    "import re\n",
    "from collections import defaultdict\n",
    "from tqdm import tqdm\n",
    "\n",
    "import cv2\n"
   ]
  },
  {
   "cell_type": "code",
   "execution_count": 5,
   "metadata": {},
   "outputs": [],
   "source": [
    "# dataset_path = \"./data/balloon/train\"\n",
    "# jsonfname = 'balloon_train.json'\n",
    "dataset_path = \"./data/balloon/val\"\n",
    "jsonfname = 'balloon_val.json'\n",
    "\n",
    "with open(os.path.join(dataset_path, \"via_region_data.json\")) as f:\n",
    "    annotations = json.load(f)\n",
    "\n",
    "# init coco dict\n",
    "coco_dict = defaultdict()\n",
    "# coco_dict['info'] = {}\n",
    "# coco_dict['licenses'] = []\n",
    "coco_dict['categories'] = []\n",
    "coco_dict['images'] = []\n",
    "coco_dict['annotations'] = []\n",
    "\n",
    "# # add info\n",
    "# coco_dict['info']['version'] = '1.0'\n",
    "# coco_dict['info']['description'] = 'Balloon Dataset'\n",
    "# coco_dict['info']['year'] = 2023\n",
    "# coco_dict['info']['contributor'] = 'NULL'\n",
    "# coco_dict['info']['date_created'] = '2023-06-11'\n",
    "\n",
    "category_id = 1\n",
    "category = {'id': category_id, 'name': 'balloon'}\n",
    "# category = {'id': category_id, 'name': 'balloon', 'supercategory': 'object'}\n",
    "coco_dict['categories'].append(category)\n"
   ]
  },
  {
   "cell_type": "code",
   "execution_count": 6,
   "metadata": {},
   "outputs": [
    {
     "name": "stderr",
     "output_type": "stream",
     "text": [
      "100%|███████████████████████████████████████████████████████████████| 13/13 [00:00<00:00, 47.80it/s]\n"
     ]
    }
   ],
   "source": [
    "\n",
    "annotation_id = 1\n",
    "for image_id, image_info in tqdm(annotations.items(), ncols=100, total=len(annotations)):\n",
    "    # extract image id\n",
    "    match = re.search(r'(\\d+)_.*', image_id)\n",
    "    if match:\n",
    "        image_id = match.group(1)\n",
    "    else:\n",
    "        continue\n",
    "\n",
    "    # get fname, size, hw\n",
    "    filename = image_info['filename']\n",
    "    size = image_info['size']\n",
    "    img = cv2.imread(os.path.join(dataset_path, filename))\n",
    "    height, width, _ = img.shape\n",
    "\n",
    "    # add to img info\n",
    "    image = {'id': int(image_id), 'file_name': filename, 'width': width, 'height': height}\n",
    "    coco_dict['images'].append(image)\n",
    "\n",
    "    # get polygon info\n",
    "    regions = image_info['regions']\n",
    "    for region_id, region_info in regions.items():\n",
    "        # 获取多边形顶点坐标\n",
    "        x = region_info['shape_attributes']['all_points_x']\n",
    "        y = region_info['shape_attributes']['all_points_y']\n",
    "        points = list(zip(x, y))\n",
    "\n",
    "        # maximum edge length of the polygon\n",
    "        xmin = min(x)\n",
    "        xmax = max(x)\n",
    "        ymin = min(y)\n",
    "        ymax = max(y)\n",
    "        width = xmax - xmin\n",
    "        height = ymax - ymin\n",
    "        # add to annotation info\n",
    "        annotation = {'id': annotation_id , 'image_id': int(image_id), 'category_id': category_id, 'segmentation': [points], 'area': width * height, 'bbox': [xmin, ymin, width, height], 'iscrowd': 0}\n",
    "        coco_dict['annotations'].append(annotation)\n",
    "        annotation_id  += 1\n",
    "\n",
    "# save as COCO formatted json file\n",
    "with open(os.path.join(dataset_path, jsonfname), 'w') as f:\n",
    "    json.dump(coco_dict, f)\n"
   ]
  },
  {
   "cell_type": "code",
   "execution_count": null,
   "metadata": {},
   "outputs": [],
   "source": []
  }
 ],
 "metadata": {
  "kernelspec": {
   "display_name": "Python 3.9.16 ('mmlab2')",
   "language": "python",
   "name": "python3"
  },
  "language_info": {
   "codemirror_mode": {
    "name": "ipython",
    "version": 3
   },
   "file_extension": ".py",
   "mimetype": "text/x-python",
   "name": "python",
   "nbconvert_exporter": "python",
   "pygments_lexer": "ipython3",
   "version": "3.9.16"
  },
  "orig_nbformat": 4,
  "vscode": {
   "interpreter": {
    "hash": "2ce752448361f29a69a0ad392cc53f8102052f58e50cd7b2483c64c600e59c35"
   }
  }
 },
 "nbformat": 4,
 "nbformat_minor": 2
}
