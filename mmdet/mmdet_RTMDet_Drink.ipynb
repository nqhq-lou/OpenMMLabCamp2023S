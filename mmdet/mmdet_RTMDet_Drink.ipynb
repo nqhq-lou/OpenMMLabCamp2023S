{
 "cells": [
  {
   "cell_type": "code",
   "execution_count": 8,
   "metadata": {},
   "outputs": [
    {
     "name": "stdout",
     "output_type": "stream",
     "text": [
      "20230611_194241  20230611_194513  drink_RTMDet.py\n"
     ]
    }
   ],
   "source": [
    "!ls /home/louzekun/projects/mmlab/mmdet/logs_drink"
   ]
  },
  {
   "cell_type": "code",
   "execution_count": 9,
   "metadata": {},
   "outputs": [
    {
     "name": "stdout",
     "output_type": "stream",
     "text": [
      "\n",
      "bbox_head.rtm_reg.1.weight - torch.Size([4, 96, 1, 1]): \n",
      "Initialized by user-defined `init_weights` in RTMDetSepBNHead  \n",
      "\n",
      "bbox_head.rtm_reg.1.bias - torch.Size([4]): \n",
      "Initialized by user-defined `init_weights` in RTMDetSepBNHead  \n",
      "\n",
      "bbox_head.rtm_reg.2.weight - torch.Size([4, 96, 1, 1]): \n",
      "Initialized by user-defined `init_weights` in RTMDetSepBNHead  \n",
      "\n",
      "bbox_head.rtm_reg.2.bias - torch.Size([4]): \n",
      "Initialized by user-defined `init_weights` in RTMDetSepBNHead  \n",
      "2023/06/11 19:45:20 - mmengine - INFO - Load checkpoint from https://download.openmmlab.com/mmdetection/v3.0/rtmdet/rtmdet_tiny_8xb32-300e_coco/rtmdet_tiny_8xb32-300e_coco_20220902_112414-78e30dcc.pth\n",
      "2023/06/11 19:45:20 - mmengine - WARNING - \"FileClient\" will be deprecated in future. Please use io functions in https://mmengine.readthedocs.io/en/latest/api/fileio.html#file-io\n",
      "2023/06/11 19:45:20 - mmengine - WARNING - \"HardDiskBackend\" is the alias of \"LocalBackend\" and the former will be deprecated in future.\n",
      "2023/06/11 19:45:20 - mmengine - INFO - Checkpoints will be saved to /mnt/data/ai4phys/louzekun/projects/mmlab/mmdet/logs_drink.\n"
     ]
    }
   ],
   "source": [
    "# !python ./tools/train.py ./drink_RTMDet.py --work-dir ./logs_drink\n",
    "!cat /home/louzekun/projects/mmlab/mmdet/logs_drink/20230611_194513/20230611_194513.log | tail -16\n"
   ]
  },
  {
   "cell_type": "code",
   "execution_count": null,
   "metadata": {},
   "outputs": [],
   "source": []
  }
 ],
 "metadata": {
  "kernelspec": {
   "display_name": "Python 3.9.16 ('mmlab2')",
   "language": "python",
   "name": "python3"
  },
  "language_info": {
   "codemirror_mode": {
    "name": "ipython",
    "version": 3
   },
   "file_extension": ".py",
   "mimetype": "text/x-python",
   "name": "python",
   "nbconvert_exporter": "python",
   "pygments_lexer": "ipython3",
   "version": "3.9.16"
  },
  "orig_nbformat": 4,
  "vscode": {
   "interpreter": {
    "hash": "2ce752448361f29a69a0ad392cc53f8102052f58e50cd7b2483c64c600e59c35"
   }
  }
 },
 "nbformat": 4,
 "nbformat_minor": 2
}
